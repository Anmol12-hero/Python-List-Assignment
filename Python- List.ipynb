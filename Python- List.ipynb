{
 "cells": [
  {
   "cell_type": "code",
   "execution_count": 1,
   "id": "21844fd8-6284-4cc8-bf61-f8e0f769120a",
   "metadata": {},
   "outputs": [],
   "source": [
    "# Q1. Create an empty list."
   ]
  },
  {
   "cell_type": "code",
   "execution_count": 4,
   "id": "8a391d9a-0f72-4255-bb80-1ad12734cf18",
   "metadata": {},
   "outputs": [],
   "source": [
    "#ans.  my_list = []"
   ]
  },
  {
   "cell_type": "code",
   "execution_count": 5,
   "id": "8d75b1d6-5a46-40a5-bb71-9e852e102572",
   "metadata": {},
   "outputs": [],
   "source": [
    "# Now, my_list is an empty list."
   ]
  },
  {
   "cell_type": "code",
   "execution_count": 6,
   "id": "358d60c9-83c9-4344-ace8-196138213b79",
   "metadata": {},
   "outputs": [],
   "source": [
    "# Q2. Create a list and add an element to the end of this list."
   ]
  },
  {
   "cell_type": "code",
   "execution_count": 11,
   "id": "50fa9139-6539-4f33-b1df-dee4eb7e13e6",
   "metadata": {},
   "outputs": [],
   "source": [
    "#ans.\n",
    "my_list = [1, 2, 3] # creating a list\n",
    "my_list.append(4) # adding an element to the end of the list"
   ]
  },
  {
   "cell_type": "code",
   "execution_count": 15,
   "id": "a2a80c52-d68d-43c2-884d-bb74d40b8009",
   "metadata": {},
   "outputs": [],
   "source": [
    "# Q3. For the above created list print the last element."
   ]
  },
  {
   "cell_type": "code",
   "execution_count": 14,
   "id": "716d8f3a-cfd2-41ef-94f1-dcc9cf0eddbf",
   "metadata": {},
   "outputs": [
    {
     "name": "stdout",
     "output_type": "stream",
     "text": [
      "4\n"
     ]
    }
   ],
   "source": [
    "#ans\n",
    "my_list = [1, 2, 3, 4] # creating a list\n",
    "print(my_list[-1]) # printing the last element of the list"
   ]
  },
  {
   "cell_type": "code",
   "execution_count": 16,
   "id": "06af4b50-ce10-48c0-ae1b-c0d97158b679",
   "metadata": {},
   "outputs": [],
   "source": [
    "# Q4. Reverse the above created list."
   ]
  },
  {
   "cell_type": "code",
   "execution_count": 17,
   "id": "8d6d6a85-04bd-4bd5-afb2-470c542e870d",
   "metadata": {},
   "outputs": [
    {
     "name": "stdout",
     "output_type": "stream",
     "text": [
      "[4, 3, 2, 1]\n"
     ]
    }
   ],
   "source": [
    "#ans.\n",
    "my_list = [1, 2, 3, 4] # creating a list\n",
    "my_list.reverse() # reversing the list\n",
    "print(my_list) # printing the reversed list"
   ]
  },
  {
   "cell_type": "code",
   "execution_count": 18,
   "id": "4e93a43b-853f-4daa-bf3f-d441fafd11cd",
   "metadata": {},
   "outputs": [],
   "source": [
    "# Q5. Sort the above created list."
   ]
  },
  {
   "cell_type": "code",
   "execution_count": 20,
   "id": "e9cc38d5-c2d0-4ce6-98cc-7007e72f335c",
   "metadata": {},
   "outputs": [
    {
     "name": "stdout",
     "output_type": "stream",
     "text": [
      "[1, 2, 3, 4]\n"
     ]
    }
   ],
   "source": [
    "#ans.\n",
    "my_list = [1, 4, 2, 3] # creating a list\n",
    "my_list.sort() # sorting the list\n",
    "print(my_list) # printing the sorted list"
   ]
  },
  {
   "cell_type": "code",
   "execution_count": 21,
   "id": "6ad14319-33f2-4115-9f3d-64ae381a93b1",
   "metadata": {},
   "outputs": [],
   "source": [
    "#Q6. Create a list of your top three favorite movies, then print the second movie title."
   ]
  },
  {
   "cell_type": "code",
   "execution_count": 24,
   "id": "145e1795-0e16-4fa0-a76f-8698e3047e99",
   "metadata": {},
   "outputs": [
    {
     "name": "stdout",
     "output_type": "stream",
     "text": [
      "Ramayana: The Legend of Prince Rama\n"
     ]
    }
   ],
   "source": [
    "#ans.\n",
    "my_movies = [\" Dangal \", \"Ramayana: The Legend of Prince Rama\", \"The Dark Knight\"] # creating a list of favorite movies\n",
    "print(my_movies[1]) # printing the second movie title"
   ]
  },
  {
   "cell_type": "code",
   "execution_count": 25,
   "id": "9f94a407-2134-4bc0-b0c1-5b4b5df4e2ea",
   "metadata": {},
   "outputs": [],
   "source": [
    "#Q7. Create a list of your favorite animals, then add a new animal to the list and print the updated list."
   ]
  },
  {
   "cell_type": "code",
   "execution_count": 27,
   "id": "df882bbc-899d-43ad-8aee-350aae9e0fad",
   "metadata": {},
   "outputs": [
    {
     "name": "stdout",
     "output_type": "stream",
     "text": [
      "['dog', 'cat', 'penguin', 'elephant']\n"
     ]
    }
   ],
   "source": [
    "#ans.\n",
    "my_animals = [\"dog\", \"cat\", \"penguin\"] # creating a list of favorite animals\n",
    "my_animals.append(\"elephant\") # adding a new animal to the list\n",
    "print(my_animals) # printing the updated list"
   ]
  },
  {
   "cell_type": "code",
   "execution_count": 28,
   "id": "b8e8400e-ce67-44f7-9af3-8e5e7e23ce09",
   "metadata": {},
   "outputs": [],
   "source": [
    "#Q8. Create a list of your favorite cities, then use the index() method to find the position of a specific city\n",
    "#on the list and print it."
   ]
  },
  {
   "cell_type": "code",
   "execution_count": 30,
   "id": "792174c2-09e3-4195-bbb8-996ace45fa45",
   "metadata": {},
   "outputs": [
    {
     "name": "stdout",
     "output_type": "stream",
     "text": [
      "3\n"
     ]
    }
   ],
   "source": [
    "#ans.\n",
    "my_cities = [\"Delhi\",\"Mubai\",\"Bangalore\",\"Kolkata\"]\n",
    "# creating a list of favorite cities,\n",
    "city_position = my_cities.index(\"Kolkata\") # finding the position of \"Tokyo\" on the list\n",
    "print(city_position) # printing the position of \"Tokyo\""
   ]
  },
  {
   "cell_type": "code",
   "execution_count": null,
   "id": "b3394828-9453-4594-898c-ef5bbea4bd88",
   "metadata": {},
   "outputs": [],
   "source": [
    "# Completed"
   ]
  }
 ],
 "metadata": {
  "kernelspec": {
   "display_name": "Python 3 (ipykernel)",
   "language": "python",
   "name": "python3"
  },
  "language_info": {
   "codemirror_mode": {
    "name": "ipython",
    "version": 3
   },
   "file_extension": ".py",
   "mimetype": "text/x-python",
   "name": "python",
   "nbconvert_exporter": "python",
   "pygments_lexer": "ipython3",
   "version": "3.10.8"
  }
 },
 "nbformat": 4,
 "nbformat_minor": 5
}
